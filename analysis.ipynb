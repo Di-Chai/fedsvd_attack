{
 "cells": [
  {
   "cell_type": "code",
   "execution_count": 42,
   "id": "7d0ac666-c4b7-4394-8b00-d8e42da13800",
   "metadata": {},
   "outputs": [],
   "source": [
    "import os\n",
    "import pdb\n",
    "import numpy as np\n",
    "import matplotlib.pyplot as plt\n",
    "\n",
    "from ica_attack import correlation\n",
    "from scipy.stats import pearsonr"
   ]
  },
  {
   "cell_type": "code",
   "execution_count": 81,
   "id": "eb493d23-2052-4902-970e-fcbcff3a4d73",
   "metadata": {},
   "outputs": [],
   "source": [
    "dataset = 'ml100k'\n",
    "x = np.load(os.path.join(\"data\", dataset + '.npy'))\n",
    "px = np.load(os.path.join(\"data\", dataset + '_px_0.npy'))\n",
    "xq = np.load(os.path.join(\"data\", dataset + '_xq_0.npy'))\n",
    "pxq = np.load(os.path.join(\"data\", dataset + '_pxq_0.npy'))\n",
    "random = np.load(os.path.join(\"data\", dataset + '_random_0.npy'))"
   ]
  },
  {
   "cell_type": "code",
   "execution_count": 82,
   "id": "bd4993f1-16ad-4865-98c3-ca9313b7dcaa",
   "metadata": {},
   "outputs": [],
   "source": [
    "def root_mse(a, b):\n",
    "    return np.sqrt(np.mean(np.square(a - b)))\n",
    "\n",
    "def np_pearson_cor(x, y):\n",
    "    xv = x - x.mean(axis=0)\n",
    "    yv = y - y.mean(axis=0)\n",
    "    xvss = (xv * xv).sum(axis=0)\n",
    "    yvss = (yv * yv).sum(axis=0)\n",
    "    cor_matrix = np.matmul(xv.transpose(), yv) / np.sqrt(np.outer(xvss, yvss))\n",
    "    # bound the values to -1 to 1 in the event of precision issues\n",
    "    cor_matrix = np.maximum(np.minimum(cor_matrix, 1.0), -1.0)\n",
    "    \n",
    "    index_list = np.arange(len(cor_matrix[0]))\n",
    "    pearson_result = []\n",
    "    index_result = []\n",
    "    for i in range(len(cor_matrix)):\n",
    "        index = np.argmax(cor_matrix[i][index_list])\n",
    "        pearson_result.append(cor_matrix[i][index])\n",
    "        index_result.append(index_list[index])\n",
    "        index_list = np.delete(index_list, index)\n",
    "    \n",
    "    rmse_result = []\n",
    "    for i in range(len(index_result)):\n",
    "        rmse_result.append(root_mse(x[:, i], y[:, index_result[i]]))\n",
    "    \n",
    "    return np.mean(pearson_result), np.mean(rmse_result)"
   ]
  },
  {
   "cell_type": "code",
   "execution_count": 83,
   "id": "3d157c7a-0995-4450-8548-44de14636f1b",
   "metadata": {},
   "outputs": [
    {
     "name": "stdout",
     "output_type": "stream",
     "text": [
      "(0.0079705677230172, 1.9940018228151986)\n",
      "(0.0016268246420190723, 1.3807991808232238)\n",
      "(-0.0001081677560047415, 1.7731852525994074)\n",
      "(0.003468710909118465, 1.3398822251335476)\n"
     ]
    }
   ],
   "source": [
    "print(np_pearson_cor(pxq, x))\n",
    "print(np_pearson_cor(random, x))\n",
    "\n",
    "print(np_pearson_cor(pxq.T, x.T))\n",
    "print(np_pearson_cor(random.T, x.T))"
   ]
  },
  {
   "cell_type": "code",
   "execution_count": 61,
   "id": "a4863f81-e7b6-4cc3-9af9-3e0928090e26",
   "metadata": {},
   "outputs": [
    {
     "name": "stdout",
     "output_type": "stream",
     "text": [
      "0.005468252148591862 [6, 1, 2, 11, 0, 10, 5, 9, 4, 3, 8, 7]\n"
     ]
    }
   ],
   "source": [
    "index_list = np.arange(len(a[0]))\n",
    "result = []\n",
    "index_result = []\n",
    "for i in range(len(a)):\n",
    "    index = np.argmax(a[i][index_list])\n",
    "    result.append(a[i][index])\n",
    "    index_result.append(index_list[index])\n",
    "    index_list = np.delete(index_list, index)\n",
    "print(np.mean(result), index_result)"
   ]
  },
  {
   "cell_type": "code",
   "execution_count": 48,
   "id": "3b5c25af-b2d5-4247-853f-d9ed6bd3da21",
   "metadata": {},
   "outputs": [
    {
     "name": "stdout",
     "output_type": "stream",
     "text": [
      "0.12786248570887787 0.256785353819297\n",
      "0.3040736532788729 0.10020921192518221\n",
      "0.2787725346703635 0.12015516545711297\n",
      "0.09974346085326821 0.07731516893874765\n"
     ]
    }
   ],
   "source": [
    "print(np_pearson_cor(px, x).max(0).mean(), np_pearson_cor(px.T, x.T).max(0).mean())\n",
    "print(np_pearson_cor(xq, x).max(0).mean(), np_pearson_cor(xq.T, x.T).max(0).mean())\n",
    "print(np_pearson_cor(pxq, x).max(0).mean(), np_pearson_cor(pxq.T, x.T).max(0).mean())\n",
    "print(np_pearson_cor(random, x).max(0).mean(), np_pearson_cor(random.T, x.T).max(0).mean())"
   ]
  },
  {
   "cell_type": "code",
   "execution_count": 49,
   "id": "9631a0ab-3cca-4f40-bc42-971692d03a38",
   "metadata": {},
   "outputs": [
    {
     "name": "stdout",
     "output_type": "stream",
     "text": [
      "0.0024444997742609996 -5.1183690113794616e-05\n",
      "1.6946233789593408e-05 -0.00595979952127916\n",
      "0.00028962353138500813 6.358980808667646e-06\n",
      "-1.769594820087135e-05 -7.535024492423405e-05\n"
     ]
    }
   ],
   "source": [
    "print(np_pearson_cor(px, x).max(0).mean(), np_pearson_cor(px.T, x.T).max(0).mean())\n",
    "print(np_pearson_cor(xq, x).max(0).mean(), np_pearson_cor(xq.T, x.T).max(0).mean())\n",
    "print(np_pearson_cor(pxq, x).max(0).mean(), np_pearson_cor(pxq.T, x.T).max(0).mean())\n",
    "print(np_pearson_cor(random, x).max(0).mean(), np_pearson_cor(random.T, x.T).max(0).mean())"
   ]
  },
  {
   "cell_type": "code",
   "execution_count": 36,
   "id": "be4e562d-f9e1-4870-8c38-63df7666e438",
   "metadata": {},
   "outputs": [],
   "source": [
    "\n",
    "\n",
    "def correlation(real_x, rec_x, correlation_func=pearsonr, comp_func=np.max):\n",
    "    m, n = real_x.shape\n",
    "    used_index = []\n",
    "    if m <= n:\n",
    "        results = []\n",
    "        for i in range(rec_x.shape[0]):\n",
    "            tmp_result = []\n",
    "            for j in range(real_x.shape[0]):\n",
    "                tmp_result.append(correlation_func(rec_x[i], real_x[j])[0])\n",
    "            selected_result = comp_func([tmp_result[e] for e in range(real_x.shape[0]) if e not in used_index])\n",
    "            results.append(selected_result)\n",
    "        print(\n",
    "            f'{getattr(correlation_func, \"__name__\")} '\n",
    "            f'Mean {np.mean(results)} {getattr(comp_func, \"__name__\")} {comp_func(results)}'\n",
    "        )\n",
    "    else:\n",
    "        correlation(real_x.T, rec_x.T, correlation_func=correlation_func, comp_func=comp_func)"
   ]
  },
  {
   "cell_type": "code",
   "execution_count": 37,
   "id": "96df2aef-8f2c-4efe-9143-3af9b42cb9ac",
   "metadata": {},
   "outputs": [],
   "source": []
  },
  {
   "cell_type": "code",
   "execution_count": 38,
   "id": "eeec8ce0-caa1-4fed-aee9-0ca516608616",
   "metadata": {},
   "outputs": [
    {
     "name": "stdout",
     "output_type": "stream",
     "text": [
      "pearsonr Mean 0.025187560949552615 amax 0.05526887344847148\n",
      "root_mse Mean 1.0024829301831428 amin 1.0008082105856113\n"
     ]
    }
   ],
   "source": [
    "correlation(real_x=x, rec_x=px, correlation_func=pearsonr, comp_func=np.max)\n",
    "correlation(real_x=x, rec_x=px, correlation_func=root_mse, comp_func=np.min)"
   ]
  },
  {
   "cell_type": "code",
   "execution_count": 39,
   "id": "cf65af7b-9568-44df-b0db-6a0be95ab142",
   "metadata": {},
   "outputs": [
    {
     "name": "stdout",
     "output_type": "stream",
     "text": [
      "pearsonr Mean 0.40836268346806404 amax 0.8652098645885484\n",
      "root_mse Mean 0.904870699336637 amin 0.19129029493572283\n"
     ]
    }
   ],
   "source": [
    "correlation(real_x=x, rec_x=xq, correlation_func=pearsonr, comp_func=np.max)\n",
    "correlation(real_x=x, rec_x=xq, correlation_func=root_mse, comp_func=np.min)"
   ]
  },
  {
   "cell_type": "code",
   "execution_count": 40,
   "id": "a9ebafda-bf2e-4d14-a735-50386a59e372",
   "metadata": {},
   "outputs": [
    {
     "name": "stdout",
     "output_type": "stream",
     "text": [
      "pearsonr Mean 0.021931921260476255 amax 0.03034403694677544\n",
      "root_mse Mean 0.9183797693963061 amin 0.36897314177501855\n"
     ]
    }
   ],
   "source": [
    "correlation(real_x=x, rec_x=pxq, correlation_func=pearsonr, comp_func=np.max)\n",
    "correlation(real_x=x, rec_x=pxq, correlation_func=root_mse, comp_func=np.min)"
   ]
  },
  {
   "cell_type": "code",
   "execution_count": 41,
   "id": "72c1c709-36da-4492-9df0-4519e00e1cf1",
   "metadata": {},
   "outputs": [
    {
     "name": "stdout",
     "output_type": "stream",
     "text": [
      "pearsonr Mean 0.02071051331900516 amax 0.036263627135491014\n",
      "root_mse Mean 0.32569766097227193 amin 0.32190451691595334\n"
     ]
    }
   ],
   "source": [
    "correlation(real_x=x, rec_x=random, correlation_func=pearsonr, comp_func=np.max)\n",
    "correlation(real_x=x, rec_x=random, correlation_func=root_mse, comp_func=np.min)"
   ]
  },
  {
   "cell_type": "code",
   "execution_count": 70,
   "id": "9def6998-b053-4e8f-8e5d-59977fddf99b",
   "metadata": {},
   "outputs": [
    {
     "data": {
      "image/png": "[encoded data removed]",
      "text/plain": [
       "<Figure size 432x288 with 1 Axes>"
      ]
     },
     "metadata": {
      "needs_background": "light"
     },
     "output_type": "display_data"
    }
   ],
   "source": [
    "plt.plot(x[10][:100], 'r')\n",
    "plt.plot(pxq[3][:100], 'g')\n",
    "plt.plot(random[100][:100], 'b')\n",
    "plt.show()"
   ]
  },
  {
   "cell_type": "code",
   "execution_count": null,
   "id": "7cb79b37-2833-4c57-860d-0f667b4944d6",
   "metadata": {},
   "outputs": [],
   "source": [
    "rmse_result = []\n",
    "pearson_result = []\n",
    "for i in range(pxq.shape[0]):\n",
    "    tmp_rmse = []\n",
    "    tmp_pearson = []\n",
    "    for j in range(x.shape[0]):\n",
    "        tmp_rmse.append(np.sqrt(np.mean(np.square(pxq[i] - x[j]))))\n",
    "        tmp_pearson.append(pearsonr(pxq[i], x[j])[0])\n",
    "    rmse_result.append(min(tmp_rmse))\n",
    "    pearson_result.append(max(tmp_pearson))\n",
    "print('RMSE', np.mean(rmse_result), np.min(rmse_result))\n",
    "print('Pearsonr', np.mean(pearson_result), np.max(pearson_result))"
   ]
  },
  {
   "cell_type": "code",
   "execution_count": null,
   "id": "5b04f40b-3c34-4dd4-bfaa-6098655846be",
   "metadata": {},
   "outputs": [],
   "source": [
    "rmse_result = []\n",
    "pearson_result = []\n",
    "for i in range(random.shape[0]):\n",
    "    tmp_rmse = []\n",
    "    tmp_pearson = []\n",
    "    for j in range(x.shape[0]):\n",
    "        tmp_rmse.append(np.sqrt(np.mean(np.square(random[i] - x[j]))))\n",
    "        tmp_pearson.append(pearsonr(random[i], x[j])[0])\n",
    "    rmse_result.append(min(tmp_rmse))\n",
    "    pearson_result.append(max(tmp_pearson))\n",
    "    print(i, min(tmp_rmse), max(tmp_pearson))\n",
    "print('RMSE', np.mean(rmse_result), np.min(rmse_result))\n",
    "print('Pearsonr', np.mean(pearson_result), np.max(pearson_result))"
   ]
  }
 ],
 "metadata": {
  "kernelspec": {
   "display_name": "Python 3",
   "language": "python",
   "name": "python3"
  },
  "language_info": {
   "codemirror_mode": {
    "name": "ipython",
    "version": 3
   },
   "file_extension": ".py",
   "mimetype": "text/x-python",
   "name": "python",
   "nbconvert_exporter": "python",
   "pygments_lexer": "ipython3",
   "version": "3.8.10"
  }
 },
 "nbformat": 4,
 "nbformat_minor": 5
}
